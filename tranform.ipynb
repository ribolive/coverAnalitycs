{
 "cells": [
  {
   "cell_type": "code",
   "execution_count": 1,
   "metadata": {},
   "outputs": [],
   "source": [
    "import pandas as pd\n",
    "import numpy as np\n",
    "import pickle"
   ]
  },
  {
   "cell_type": "code",
   "execution_count": 2,
   "metadata": {},
   "outputs": [],
   "source": [
    "raw_data = pickle.load(open('rawData.pkl', 'rb'))"
   ]
  },
  {
   "cell_type": "code",
   "execution_count": 3,
   "metadata": {},
   "outputs": [
    {
     "name": "stdout",
     "output_type": "stream",
     "text": [
      "UCgc00bfF_PvO_2AvqJZHXFg dict_keys(['QISBZEq9OXc', 'znoNzgwrLpM', 'lAmuEnePHHo', 'vpozQc7VMVs', '06J5KGmct14', '9N7leomAGUs'])\n",
      "UCTOSI18KyJSZWouZM5kADvg dict_keys(['R-0S123bEt0', 'VljKRXeBBhI', '8wbssZK5kdc', '0pywwNJu1Is', 'IDW8r6pWKmY', 'GZuXraB0afg', 'SEBk9-KOtgM'])\n",
      "UCtN63iegUVqBAxdYkZ-UslQ dict_keys(['h2_F5Lzn6SU', 'a0V3Zo2S0HM', 'UyKs_yvSITk', 'DOnmTaYw-_M', 'RO_3Ck2zXnM'])\n",
      "UCfjnEW3mVXfW0Wb602r1IrQ dict_keys(['kFKdj1Wtrfo', 'Qx0nfUncvCk', 'CmCIis88Va8', 'Y-UYo7bcUyo', 'iuDUNJRzTfQ'])\n",
      "UCTKDB3h5zMdf_2siDHsd_yw dict_keys(['fDGKTSndxeQ', '3Pxm0kVEW0E', 'f6vrDG3xmDs', 'Z2ff-GIYuRY', 'y-obv6m7MOE', '4b7Pwvj8eCA', 'lnWwM-h4Dpg'])\n",
      "UCxywry2DJ4iNXINFPqMaYxw dict_keys(['aSDNuT9ore4', 'cyh9PAtgEY8', 'B7_JLUS4LQY', 'u_ZMFS5Xd2A', 'PdMBS6_n0oY'])\n",
      "UC2vPHIqjFdpPVMa2PGwJuYg dict_keys(['yyziSf6BnsU', '7gDTywG8LPg', 'mVAEXA9M-M4', 'uoaZRxZ9W1A'])\n",
      "UC_b5Ew_f185LSJ0jMNZ2CAw dict_keys(['CYbRR-mSEfI', '0JY0nySRg40', '8VVv3yfB3P0', 'DmCWuFfRVsk'])\n",
      "UCmnHY9Uw5pDgn3tvZOtarKw dict_keys(['KVjcuddU2-k', 'xeCIirTf9vI', 'HTpRgIfzVx0', 'OrxUfhOCA88', '07K9YylXVo8'])\n"
     ]
    }
   ],
   "source": [
    "for channel_id, videos in raw_data.items():\n",
    "    print(channel_id, videos.keys())"
   ]
  },
  {
   "cell_type": "code",
   "execution_count": 4,
   "metadata": {},
   "outputs": [],
   "source": [
    "def get_delta(channel, video, k):\n",
    "    return np.array(\n",
    "        [ video.__dict__[k] for _,video in raw_data[channel][video].items() ]\n",
    "    )"
   ]
  },
  {
   "cell_type": "code",
   "execution_count": 5,
   "metadata": {},
   "outputs": [],
   "source": [
    "def get_mean_std(array):\n",
    "    return np.mean(array), np.std(array)"
   ]
  },
  {
   "cell_type": "code",
   "execution_count": 6,
   "metadata": {},
   "outputs": [],
   "source": [
    "def get_log(array):\n",
    "    w = np.where(array > 0, True, False)\n",
    "    return np.log10(array, where=w, dtype='float32')"
   ]
  },
  {
   "cell_type": "code",
   "execution_count": 11,
   "metadata": {},
   "outputs": [],
   "source": [
    "deltas = {}\n",
    "for channel_key, videos in raw_data.items():\n",
    "    deltas[channel_key] = {}\n",
    "    for video_ID, periods in videos.items():\n",
    "        delta = {}\n",
    "        delta[\"like_count\"] = get_delta(channel_key, video_ID, 'like_count')\n",
    "        delta[\"view_count\"] = get_delta(channel_key, video_ID, 'view_count')\n",
    "        delta[\"comment_count\"] = get_delta(channel_key, video_ID, 'comment_count')\n",
    "        delta[\"dislike_count\"] = get_delta(channel_key, video_ID, 'dislike_count')\n",
    "        \n",
    "        for key in delta.keys():\n",
    "            delta[key] = get_mean_std(get_log(delta[key]))\n",
    "        deltas[channel_key][video_ID] = delta"
   ]
  },
  {
   "cell_type": "code",
   "execution_count": 26,
   "metadata": {},
   "outputs": [],
   "source": [
    "data = list()\n",
    "for channel_key, videos in deltas.items():\n",
    "    for video_ID, delta_ in videos.items():\n",
    "        # todo: Pegar total de inscritos e acrescentar no fim de ROW\n",
    "#         row = [video_ID, delta_[\"like_count\"], delta_[\"view_count\"], delta_[\"comment_count\"], delta_[\"dislike_count\"]]\n",
    "        row = [ video_ID ]\n",
    "        for key in delta_.keys():\n",
    "            row.extend(delta_[key])\n",
    "        data.append(row)\n",
    "        "
   ]
  },
  {
   "cell_type": "code",
   "execution_count": 30,
   "metadata": {},
   "outputs": [],
   "source": [
    "df = pd.DataFrame(\n",
    "    data, columns=[\"video_id\", \n",
    "                   \"likes_mean\", \"likes_std\", \n",
    "                   \"view_mean\", \"views_std\", \n",
    "                   \"comment_mean\", \"comment_std\",\n",
    "                   \"dislike_mean\", \"dislike_std\"\n",
    "                  ]\n",
    ")"
   ]
  },
  {
   "cell_type": "code",
   "execution_count": 33,
   "metadata": {},
   "outputs": [],
   "source": [
    "df.to_csv('dados.csv', index=False)"
   ]
  },
  {
   "cell_type": "code",
   "execution_count": null,
   "metadata": {},
   "outputs": [],
   "source": []
  }
 ],
 "metadata": {
  "kernelspec": {
   "display_name": "Python 3",
   "language": "python",
   "name": "python3"
  },
  "language_info": {
   "codemirror_mode": {
    "name": "ipython",
    "version": 3
   },
   "file_extension": ".py",
   "mimetype": "text/x-python",
   "name": "python",
   "nbconvert_exporter": "python",
   "pygments_lexer": "ipython3",
   "version": "3.6.8"
  }
 },
 "nbformat": 4,
 "nbformat_minor": 4
}
